{
 "cells": [
  {
   "cell_type": "markdown",
   "metadata": {},
   "source": [
    "# Get Tweets From @username and Write to txt"
   ]
  },
  {
   "cell_type": "markdown",
   "metadata": {},
   "source": [
    "#### Firstly setting up libraries"
   ]
  },
  {
   "cell_type": "code",
   "execution_count": null,
   "metadata": {},
   "outputs": [],
   "source": [
    "import tweepy\n",
    "from datetime import datetime"
   ]
  },
  {
   "cell_type": "markdown",
   "metadata": {},
   "source": [
    "#### Twitter API requirements"
   ]
  },
  {
   "cell_type": "code",
   "execution_count": null,
   "metadata": {},
   "outputs": [],
   "source": [
    "consumer_key = 'YOUR_CONSUMER_KEY'\n",
    "consumer_secret = 'YOUR_CONSUMER_SECRET'\n",
    "access_token = 'YOUR_ACCESS_TOKEN'\n",
    "access_token_secret = 'YOUR_ACCESS_SECRET'"
   ]
  },
  {
   "cell_type": "code",
   "execution_count": null,
   "metadata": {},
   "outputs": [],
   "source": [
    "auth = tweepy.OAuthHandler(consumer_key, consumer_secret)\n",
    "auth.set_access_token(access_token, access_token_secret)\n",
    "auth.secure = True\n",
    "api = tweepy.API(auth)\n"
   ]
  },
  {
   "cell_type": "markdown",
   "metadata": {},
   "source": [
    "#### Getting username"
   ]
  },
  {
   "cell_type": "code",
   "execution_count": null,
   "metadata": {},
   "outputs": [],
   "source": [
    "print(\"Write a username who you want to get tweets.\")\n",
    "username = input(\"username: @\")"
   ]
  },
  {
   "cell_type": "markdown",
   "metadata": {},
   "source": [
    "#### Defining variables"
   ]
  },
  {
   "cell_type": "code",
   "execution_count": null,
   "metadata": {},
   "outputs": [],
   "source": [
    "userAllInfo = api.get_user(screen_name = username)\n",
    "\n",
    "userId = userAllInfo.id\n",
    "print(\"This user's id: \" + str(userId) + \"\\n PS: May be you want to notice that ID for possible changing username\")\n",
    "\n",
    "screenName = userAllInfo.screen_name\n",
    "name = userAllInfo.name"
   ]
  },
  {
   "cell_type": "code",
   "execution_count": null,
   "metadata": {},
   "outputs": [],
   "source": [
    "dateTime = datetime.now()\n",
    "time = datetime.strftime(dateTime, '%m_%d_%y__%H_%M_%S')"
   ]
  },
  {
   "cell_type": "code",
   "execution_count": null,
   "metadata": {},
   "outputs": [],
   "source": [
    "tweetCount = 1"
   ]
  },
  {
   "cell_type": "code",
   "execution_count": null,
   "metadata": {},
   "outputs": [],
   "source": [
    "fileName = \"All_Tweets_From_@\"+screenName+\"_Until_\"+str(time)+\".txt\""
   ]
  },
  {
   "cell_type": "markdown",
   "metadata": {},
   "source": [
    "#### Writing tweets to txt"
   ]
  },
  {
   "cell_type": "code",
   "execution_count": null,
   "metadata": {},
   "outputs": [],
   "source": [
    "with open(fileName, \"w\") as f:\n",
    "\n",
    "    f.write(\"All Tweets Until: \" + str(time))\n",
    "    f.write(\"\\n\")\n",
    "    f.write(\"---------------------\")\n",
    "    \n",
    "    for status in tweepy.Cursor(api.user_timeline, user_id = userId,\n",
    "                                tweet_mode=\"extended\", exclude_replies= False,\n",
    "                                include_rts = True).items():\n",
    "\n",
    "        try:\n",
    "            f.write(\"\\n\")\n",
    "            f.write(\"Tweet No: \" + str(tweetCount) + \"\\n\")\n",
    "            f.write(\"\\n\")\n",
    "            f.write(name + \" @\" + screenName + \" :\\n\")\n",
    "            f.write(status.full_text + \"\\n\")\n",
    "            f.write(\"\\n\")\n",
    "            f.write(str(status.created_at) + \"\\n\")\n",
    "            f.write(\"\\n\")\n",
    "            f.write(\"---------------------\")\n",
    "            f.write(\"\\n\")\n",
    "        except UnicodeEncodeError:\n",
    "            f.write(status.full_text.encode('unicode-escape').decode('utf-8') + \"\\n\")\n",
    "            \n",
    "        tweetCount += 1\n",
    "    \n",
    "    f.write(\"\\n\")\n",
    "    f.write(\"---------------------\")\n",
    "    f.write(\"\\n\")\n",
    "    f.write(str((tweetCount - 1))+\" Tweets from @\"+screenName+\" successfully extracted.\")\n",
    "    f.close()\n",
    "\n",
    "print(str((tweetCount - 1))+\" Tweets from @\"+screenName+\" successfully extracted. Look up your txt file to see tweets.\")"
   ]
  },
  {
   "cell_type": "markdown",
   "metadata": {},
   "source": [
    "###### After seconds you will see tweets in txt file."
   ]
  },
  {
   "cell_type": "code",
   "execution_count": null,
   "metadata": {},
   "outputs": [],
   "source": []
  }
 ],
 "metadata": {
  "kernelspec": {
   "display_name": "Python 3",
   "language": "python",
   "name": "python3"
  },
  "language_info": {
   "codemirror_mode": {
    "name": "ipython",
    "version": 3
   },
   "file_extension": ".py",
   "mimetype": "text/x-python",
   "name": "python",
   "nbconvert_exporter": "python",
   "pygments_lexer": "ipython3",
   "version": "3.6.6"
  }
 },
 "nbformat": 4,
 "nbformat_minor": 2
}
